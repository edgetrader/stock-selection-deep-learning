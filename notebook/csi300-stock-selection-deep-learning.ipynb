{
 "cells": [
  {
   "cell_type": "markdown",
   "metadata": {},
   "source": [
    "# Stock Selection using Deep Learning\n",
    "by Chee-Foong（曾志峰）from Singapore（新加坡）on 19 Jul 2020\n",
    "\n",
    "## Summary\n",
    "\n",
    "**This is an extension to an earlier analysis: [机器学习选股心得（英语）](https://www.joinquant.com/view/community/detail/da8707fce7f3c80794d52ac56d2d735e?type=1):**\n",
    "\n",
    "- Deep Learning model, instead of Machine Learning, is used here\n",
    "- Long and Short trading algorithm instead of a Long-Only trading algorithm\n",
    "- This is still a multiclassification problem.  However, the number of target variable is reduced from 5 to 3.\n",
    "\n",
    "Purpose of this analysis is to predict 1-month stock returns of securities in CSI 300.  Based on predicted returns performance, each stock will be assigned to different performance categories.  At the end of each month, we will go long on stocks predicted to have good performance and go short on stocks predicted to have poor performance.  \n",
    "\n",
    "This process will repeat every month and the strategy will be backtested to determine with whether the prediction model is good enough for consistent outperformance over the index/benchmark.\n",
    "\n",
    "I welcome any comments/feedbacks on this analysis.  If you spot any mistakes, please let me know.\n",
    "\n",
    "\n",
    "### References\n",
    "Thank you to the authors of the following references for their work and sharing what they have done.\n",
    "1. [A Sustainable Quantitative Stock Selection Strategy Based on Dynamic Factor Adjustment](https://www.researchgate.net/publication/341376900_A_Sustainable_Quantitative_Stock_Selection_Strategy_Based_on_Dynamic_Factor_Adjustment)\n",
    "2. [Stock selection strategy of A-share market based on rotation effect and random forest](https://www.researchgate.net/publication/341596634_Stock_selection_strategy_of_A-share_market_based_on_rotation_effect_and_random_forest)"
   ]
  },
  {
   "cell_type": "markdown",
   "metadata": {},
   "source": [
    "---\n",
    "## Loading the libraries"
   ]
  },
  {
   "cell_type": "code",
   "execution_count": null,
   "metadata": {},
   "outputs": [],
   "source": [
    "import time\n",
    "import re\n",
    "import random\n",
    "import numpy as np\n",
    "import pandas as pd"
   ]
  },
  {
   "cell_type": "markdown",
   "metadata": {},
   "source": [
    "Preparing list of factors of interest.  List of factors here are selected based on the first reference research paper.  I have not had time to look through all the factors avaialble on JQData and select my own."
   ]
  },
  {
   "cell_type": "code",
   "execution_count": null,
   "metadata": {},
   "outputs": [],
   "source": [
    "factors = {'net_profit_to_total_operate_revenue_ttm': 'Quality',\n",
    " 'DEGM': 'Quality',\n",
    " 'roe_ttm': 'Quality',\n",
    " 'GMI': 'Quality',\n",
    " 'ACCA': 'Quality',\n",
    " 'financial_liability': 'Fundamental',\n",
    " 'cash_flow_to_price_ratio': 'Fundamental',\n",
    " 'market_cap': 'Fundamental',\n",
    " 'net_profit_ttm': 'Fundamental',\n",
    " 'EBIT': 'Fundamental',\n",
    " 'VOL20': 'Emotional',\n",
    " 'DAVOL20': 'Emotional',\n",
    " 'VOSC': 'Emotional',\n",
    " 'VMACD': 'Emotional',\n",
    " 'ATR14': 'Emotional',\n",
    " 'PEG': 'Growth',\n",
    " 'net_profit_growth_rate': 'Growth',\n",
    " 'operating_revenue_growth_rate': 'Growth',\n",
    " 'net_asset_growth_rate': 'Growth',\n",
    " 'net_operate_cashflow_growth_rate': 'Growth',\n",
    " 'Variance20': 'Risk',\n",
    " 'sharpe_ratio_20': 'Risk',\n",
    " 'Kurtosis20': 'Risk',\n",
    " 'Skewness20': 'Risk',\n",
    " 'sharpe_ratio_60': 'Risk',\n",
    " 'net_asset_per_share': 'Stock',\n",
    " 'net_operate_cash_flow_per_share': 'Stock',\n",
    " 'eps_ttm': 'Stock',\n",
    " 'retained_earnings_per_share': 'Stock',\n",
    " 'cashflow_per_share_ttm': 'Stock',\n",
    " 'ROC20': 'Momentum',\n",
    " 'Volume1M': 'Momentum',\n",
    " 'TRIX10': 'Momentum',\n",
    " 'Price1M': 'Momentum',\n",
    " 'PLRC12': 'Momentum',\n",
    " 'MAC20': 'Technical',\n",
    " 'boll_down': 'Technical',\n",
    " 'boll_up': 'Technical',\n",
    " 'MFI14': 'Technical',\n",
    " 'size': 'Style',\n",
    " 'beta': 'Style',\n",
    " 'momentum': 'Style',\n",
    " 'book_to_price_ratio': 'Style',\n",
    " 'liquidity': 'Style',\n",
    " 'growth': 'Style'}"
   ]
  },
  {
   "cell_type": "code",
   "execution_count": null,
   "metadata": {},
   "outputs": [],
   "source": [
    "factor_list = []\n",
    "for key in factors:\n",
    "    factor_list.append(key)"
   ]
  },
  {
   "cell_type": "code",
   "execution_count": null,
   "metadata": {},
   "outputs": [],
   "source": [
    "print(factor_list)"
   ]
  },
  {
   "cell_type": "code",
   "execution_count": null,
   "metadata": {},
   "outputs": [],
   "source": [
    "print('Total number of factors: {}'.format(len(factor_list)))"
   ]
  },
  {
   "cell_type": "markdown",
   "metadata": {},
   "source": [
    "## Extracting Data from JQData\n",
    "\n",
    "### Factor data\n",
    "\n",
    "Requests are sent on a batch basis due to limit to the amount of data to extract per request.  One factor per year per request."
   ]
  },
  {
   "cell_type": "code",
   "execution_count": null,
   "metadata": {},
   "outputs": [],
   "source": [
    "# 导入函数库\n",
    "from jqfactor import get_factor_values\n",
    "\n",
    "# benchmark_index = '000001.XSHG' ## 上证指数\n",
    "benchmark_index = '000300.XSHG' ## 沪深300\n",
    "\n",
    "stocks = get_index_stocks(benchmark_index) \n",
    "\n",
    "## TESTING PURPOSE\n",
    "# factor_list = ['liquidity','Variance20','net_asset_growth_rate',\n",
    "#                'VOSC','size','Price1M', 'net_profit_growth_rate', \n",
    "#                'sharpe_ratio_20', 'PEG', 'beta']\n",
    "\n",
    "start_date = '2012-01-01'\n",
    "end_date = '2020-07-01'\n",
    "\n",
    "year_list = pd.date_range(start_date, end_date, freq='YS').strftime(\"%Y-%m-%d\").tolist()\n",
    "year_list.append(end_date)"
   ]
  },
  {
   "cell_type": "code",
   "execution_count": null,
   "metadata": {},
   "outputs": [],
   "source": [
    "def getSymbolName(symbol):\n",
    "    info = get_security_info(symbol)\n",
    "    return info.display_name, info.name"
   ]
  },
  {
   "cell_type": "code",
   "execution_count": null,
   "metadata": {},
   "outputs": [],
   "source": [
    "security_list = []\n",
    "\n",
    "stock_N_bmk = stocks + [benchmark_index]\n",
    "for stock in stock_N_bmk:\n",
    "    security = {}\n",
    "    display_name, stock_name = getSymbolName(stock)\n",
    "    security['symbol'] = stock\n",
    "    security['display_name'] = display_name\n",
    "    security['stock_name'] = stock_name\n",
    "    security_list.append(security)\n",
    "    \n",
    "security_list = pd.DataFrame(security_list).set_index('symbol')\n",
    "security_list.head()"
   ]
  },
  {
   "cell_type": "code",
   "execution_count": null,
   "metadata": {},
   "outputs": [],
   "source": [
    "factor_tablelist = []\n",
    "\n",
    "for i in range(len(year_list)-1):\n",
    "\n",
    "    factor_all_data = {}\n",
    "    for factor in factor_list:\n",
    "            factor_data = get_factor_values(securities=stocks, \n",
    "                                            factors=factor, \n",
    "                                            start_date=year_list[i], end_date=year_list[i+1])\n",
    "\n",
    "            factor_all_data.update(factor_data)\n",
    "            \n",
    "    factor_yearlist = []\n",
    "\n",
    "    for factor in factor_list:\n",
    "        factor_table = factor_all_data[factor].resample('M').last()\n",
    "        factor_table['factor'] = factor\n",
    "        factor_table = factor_table.reset_index() \\\n",
    "                .rename(columns = {'index': 'date'}).set_index(['date','factor'])\n",
    "        factor_yearlist.append(factor_table)\n",
    "\n",
    "    factor_yearlist = pd.concat(factor_yearlist)\n",
    "    factor_yearlist.sort_index(ascending=True, inplace=True)\n",
    "    factor_tablelist.append(factor_yearlist)"
   ]
  },
  {
   "cell_type": "markdown",
   "metadata": {},
   "source": [
    "Consolidating the data into a complete table.  Only monthend data is required in this analysis."
   ]
  },
  {
   "cell_type": "code",
   "execution_count": null,
   "metadata": {},
   "outputs": [],
   "source": [
    "factor_data = pd.concat(factor_tablelist)\n",
    "factor_data.sort_index(ascending=True, inplace=True)"
   ]
  },
  {
   "cell_type": "code",
   "execution_count": null,
   "metadata": {},
   "outputs": [],
   "source": [
    "factor_data.shape"
   ]
  },
  {
   "cell_type": "markdown",
   "metadata": {},
   "source": [
    "### Price data"
   ]
  },
  {
   "cell_type": "code",
   "execution_count": null,
   "metadata": {},
   "outputs": [],
   "source": [
    "prices = get_price(stocks, start_date=start_date, \n",
    "               end_date=end_date, frequency='daily', \n",
    "               fields=['close'])['close']"
   ]
  },
  {
   "cell_type": "code",
   "execution_count": null,
   "metadata": {},
   "outputs": [],
   "source": [
    "prices = prices.resample('M').fillna('ffill')\n",
    "returns = prices.pct_change().dropna(axis=0, how='all')"
   ]
  },
  {
   "cell_type": "markdown",
   "metadata": {},
   "source": [
    "Calculating monthend returns"
   ]
  },
  {
   "cell_type": "code",
   "execution_count": null,
   "metadata": {},
   "outputs": [],
   "source": [
    "monthly_returns = prices.pct_change().dropna(axis=0, how='all')\n",
    "monthly_returns['factor'] = 'monthly_return'\n",
    "monthly_returns = monthly_returns.reset_index() \\\n",
    "        .rename(columns = {'index': 'date'}).set_index(['date','factor'])\n",
    "monthly_returns.head()"
   ]
  },
  {
   "cell_type": "markdown",
   "metadata": {},
   "source": [
    "Creating the target variable - next month return"
   ]
  },
  {
   "cell_type": "code",
   "execution_count": null,
   "metadata": {},
   "outputs": [],
   "source": [
    "next_mth_returns = prices.pct_change().dropna(axis=0, how='all')\n",
    "next_mth_returns = next_mth_returns.shift(-1)\n",
    "next_mth_returns.dropna(axis=0, how='all', inplace=True)\n",
    "next_mth_returns['factor'] = 'next_mth_return'\n",
    "next_mth_returns = next_mth_returns.reset_index() \\\n",
    "        .rename(columns = {'index': 'date'}).set_index(['date','factor'])\n",
    "next_mth_returns.head()"
   ]
  },
  {
   "cell_type": "markdown",
   "metadata": {},
   "source": [
    "Combining the factor and returns table together"
   ]
  },
  {
   "cell_type": "code",
   "execution_count": null,
   "metadata": {},
   "outputs": [],
   "source": [
    "data = pd.concat([factor_data, monthly_returns, next_mth_returns])\n",
    "data.sort_index(ascending=True, inplace=True)"
   ]
  },
  {
   "cell_type": "code",
   "execution_count": null,
   "metadata": {},
   "outputs": [],
   "source": [
    "data.head(20)"
   ]
  },
  {
   "cell_type": "markdown",
   "metadata": {},
   "source": [
    "### Benchmark Data"
   ]
  },
  {
   "cell_type": "code",
   "execution_count": null,
   "metadata": {},
   "outputs": [],
   "source": [
    "bmk_start_date = '2012-01-01'\n",
    "bmk_end_date = '2020-07-01'\n",
    "\n",
    "bmk_prices = get_price('000300.XSHG', start_date=bmk_start_date, \n",
    "               end_date=bmk_end_date, frequency='daily', \n",
    "               fields=['close'])['close']\n",
    "bmk_prices = pd.DataFrame(bmk_prices)\n",
    "bmk_prices.index.name = 'date'"
   ]
  },
  {
   "cell_type": "markdown",
   "metadata": {},
   "source": [
    "### Save Data\n",
    "\n",
    "Saving the data in csv files for reuse as the data extraction from JQData takes time.  Once the data are saved, the remainder of the notebook can still run.  Data just need to be reloaded."
   ]
  },
  {
   "cell_type": "code",
   "execution_count": null,
   "metadata": {},
   "outputs": [],
   "source": [
    "data.to_csv('../data/full_data.csv', index=True)"
   ]
  },
  {
   "cell_type": "code",
   "execution_count": null,
   "metadata": {},
   "outputs": [],
   "source": [
    "monthly_returns.to_csv('../data/monthly_returns.csv', index=True)"
   ]
  },
  {
   "cell_type": "code",
   "execution_count": null,
   "metadata": {},
   "outputs": [],
   "source": [
    "security_list.to_csv('../data/security_ref.csv', index=True)"
   ]
  },
  {
   "cell_type": "code",
   "execution_count": null,
   "metadata": {},
   "outputs": [],
   "source": [
    "bmk_prices.to_csv('../data/bmk_prices.csv', index=True)"
   ]
  },
  {
   "cell_type": "markdown",
   "metadata": {},
   "source": [
    "# Begin Analysis\n",
    "\n",
    "## Preparing Datasets for Model Training\n",
    "\n",
    "### Loading saved data"
   ]
  },
  {
   "cell_type": "code",
   "execution_count": 91,
   "metadata": {},
   "outputs": [],
   "source": [
    "# import time\n",
    "import re\n",
    "import random\n",
    "import numpy as np\n",
    "import pandas as pd\n",
    "import os\n",
    "\n",
    "import seaborn as sns; sns.set()\n",
    "import matplotlib.pyplot as plt\n",
    "import matplotlib.ticker as ticker\n",
    "%matplotlib inline\n",
    "\n",
    "## Changing the default settings\n",
    "pd.options.display.max_columns = 50\n",
    "plt.rcParams.update({'figure.figsize':(15,6), 'figure.dpi':60})\n",
    "plt.style.use('fivethirtyeight')\n",
    "\n",
    "import warnings\n",
    "warnings.filterwarnings('ignore')\n",
    "\n",
    "import tensorflow as tf"
   ]
  },
  {
   "cell_type": "markdown",
   "metadata": {},
   "source": [
    "For Reproducible Analysis, Seed Everything!"
   ]
  },
  {
   "cell_type": "code",
   "execution_count": 92,
   "metadata": {},
   "outputs": [],
   "source": [
    "def seedeverything(seed = 3333): \n",
    "    random.seed(seed) \n",
    "    np.random.seed(seed) \n",
    "    os.environ['PYTHONHASHSEED'] = str(seed) \n",
    "    tf.random.set_seed(seed)    \n",
    "    \n",
    "SEED = 3333\n",
    "seedeverything(SEED)"
   ]
  },
  {
   "cell_type": "code",
   "execution_count": 93,
   "metadata": {},
   "outputs": [],
   "source": [
    "monthly_returns = pd.read_csv('../data/monthly_returns.csv')\n",
    "monthly_returns.date = pd.to_datetime(monthly_returns.date)\n",
    "monthly_returns = monthly_returns.set_index(['date', 'factor'])\n",
    "monthly_returns.columns.name = 'code'"
   ]
  },
  {
   "cell_type": "code",
   "execution_count": 94,
   "metadata": {},
   "outputs": [],
   "source": [
    "data = pd.read_csv('../data/full_data.csv')\n",
    "data.date = pd.to_datetime(data.date)\n",
    "data = data.set_index(['date', 'factor'])\n",
    "data.columns.name = 'code'"
   ]
  },
  {
   "cell_type": "code",
   "execution_count": 95,
   "metadata": {},
   "outputs": [],
   "source": [
    "security_list = pd.read_csv('../data/security_ref.csv')\n",
    "security_list = security_list.set_index(['symbol'])"
   ]
  },
  {
   "cell_type": "code",
   "execution_count": 96,
   "metadata": {},
   "outputs": [],
   "source": [
    "bmk_prices = pd.read_csv('../data/bmk_prices.csv')\n",
    "bmk_prices.date = pd.to_datetime(bmk_prices.date)\n",
    "bmk_prices = bmk_prices.set_index(['date'])"
   ]
  },
  {
   "cell_type": "markdown",
   "metadata": {},
   "source": [
    "### Preparing Training dataset\n",
    "Consolidate each monthly observations by features and their respective target in preparation for the training and testing dataset."
   ]
  },
  {
   "cell_type": "code",
   "execution_count": 97,
   "metadata": {},
   "outputs": [],
   "source": [
    "def getDataByDate(date):\n",
    "    out = data.loc[pd.IndexSlice[date, :], :].T\n",
    "    out.columns = out.columns.droplevel('date')\n",
    "    out.columns.name = ''\n",
    "    return out.reset_index()"
   ]
  },
  {
   "cell_type": "code",
   "execution_count": 98,
   "metadata": {},
   "outputs": [
    {
     "name": "stdout",
     "output_type": "stream",
     "text": [
      "['2015-01', '2015-02', '2015-03', '2015-04', '2015-05', '2015-06', '2015-07', '2015-08', '2015-09', '2015-10', '2015-11', '2015-12', '2016-01', '2016-02', '2016-03', '2016-04', '2016-05', '2016-06', '2016-07', '2016-08', '2016-09', '2016-10', '2016-11', '2016-12', '2017-01', '2017-02', '2017-03', '2017-04', '2017-05', '2017-06', '2017-07', '2017-08', '2017-09', '2017-10', '2017-11', '2017-12']\n"
     ]
    }
   ],
   "source": [
    "train_startdate = '01-01-2015'\n",
    "train_enddate = '01-01-2018'\n",
    "\n",
    "date_list = pd.date_range(train_startdate, train_enddate, freq='M').strftime(\"%Y-%m\").tolist()\n",
    "print(date_list)"
   ]
  },
  {
   "cell_type": "markdown",
   "metadata": {},
   "source": [
    "Note that the data on the first and last month are not used for training for the following reasons:\n",
    "- first month: Monthly return for the month cannot be calculated due to insufficient data\n",
    "- last month: All data in the month will be used to predict the monthly return next month hence cannot be used for training the model"
   ]
  },
  {
   "cell_type": "code",
   "execution_count": 99,
   "metadata": {},
   "outputs": [],
   "source": [
    "train = []\n",
    "for date in date_list[1:-1]:\n",
    "    out = getDataByDate(date)\n",
    "    train.append(out)\n",
    "\n",
    "train = pd.concat(train).reset_index(drop=True)"
   ]
  },
  {
   "cell_type": "markdown",
   "metadata": {},
   "source": [
    "### Exploratory Data Analysis\n",
    "\n",
    "Data analysis on the factors should be conducted here.  This may potentially lead to some factors being dropped because their are correlated with other factors or not meaningful in making a prediction on next month's return.  However, it is not the main focus of this analysis, so we will use all the factors as it is and see how the deep learning model performs."
   ]
  },
  {
   "cell_type": "markdown",
   "metadata": {},
   "source": [
    "Simple analysis on target variable"
   ]
  },
  {
   "cell_type": "code",
   "execution_count": 100,
   "metadata": {},
   "outputs": [
    {
     "data": {
      "image/png": "[encoded data removed]",
      "text/plain": [
       "<Figure size 900x360 with 1 Axes>"
      ]
     },
     "metadata": {},
     "output_type": "display_data"
    }
   ],
   "source": [
    "sns.distplot(train.next_mth_return, 100)\n",
    "plt.show()"
   ]
  },
  {
   "cell_type": "code",
   "execution_count": 101,
   "metadata": {},
   "outputs": [
    {
     "data": {
      "image/png": "[encoded data removed]",
      "text/plain": [
       "<Figure size 900x360 with 1 Axes>"
      ]
     },
     "metadata": {},
     "output_type": "display_data"
    }
   ],
   "source": [
    "sns.boxplot(train.next_mth_return)\n",
    "plt.show()"
   ]
  },
  {
   "cell_type": "code",
   "execution_count": 102,
   "metadata": {},
   "outputs": [
    {
     "data": {
      "text/plain": [
       "count    8858.000000\n",
       "mean        0.019458\n",
       "std         0.157115\n",
       "min        -0.470990\n",
       "25%        -0.047670\n",
       "50%         0.003814\n",
       "75%         0.072645\n",
       "max         4.565217\n",
       "Name: next_mth_return, dtype: float64"
      ]
     },
     "execution_count": 102,
     "metadata": {},
     "output_type": "execute_result"
    }
   ],
   "source": [
    "train.next_mth_return.describe()"
   ]
  },
  {
   "cell_type": "markdown",
   "metadata": {},
   "source": [
    "### Data Cleaning"
   ]
  },
  {
   "cell_type": "markdown",
   "metadata": {},
   "source": [
    "Removing observation with incomplete or missing data"
   ]
  },
  {
   "cell_type": "code",
   "execution_count": 103,
   "metadata": {},
   "outputs": [],
   "source": [
    "train.dropna(axis=0, inplace=True)"
   ]
  },
  {
   "cell_type": "markdown",
   "metadata": {},
   "source": [
    "Drop securities with less than 12 months of data.  We are only interested in securities with at least 1 year worth of data in the training dataset."
   ]
  },
  {
   "cell_type": "code",
   "execution_count": 104,
   "metadata": {},
   "outputs": [
    {
     "name": "stdout",
     "output_type": "stream",
     "text": [
      "Number of securities dropped: 48\n"
     ]
    }
   ],
   "source": [
    "security_todrop = train.groupby('code').size()\n",
    "minsize = 12\n",
    "\n",
    "security_todrop = security_todrop[security_todrop.values < minsize].index.tolist()\n",
    "print('Number of securities dropped: {}'.format(len(security_todrop)))\n",
    "train = train[~train.code.isin(security_todrop)]"
   ]
  },
  {
   "cell_type": "markdown",
   "metadata": {},
   "source": [
    "### Feature Engineering the Target"
   ]
  },
  {
   "cell_type": "markdown",
   "metadata": {},
   "source": [
    "Categorise the target to **return_range**.  Note that this will cause in imbalanced dataset on a multiclassification problem in which we will try to fix via upsampling later.\n",
    "\n",
    "| Return Category | LabelEncoded | Description |\n",
    "| :-: | :-: | --- |\n",
    "| A | 0 | Stocks with next month return more than 10% |\n",
    "| B | 1 | Stocks with next month return between -10% and 10% |\n",
    "| C | 2 | Stocks with next month return less than -10% |"
   ]
  },
  {
   "cell_type": "code",
   "execution_count": 105,
   "metadata": {},
   "outputs": [],
   "source": [
    "train['return_range'] = pd.cut(train['next_mth_return'], \n",
    "       bins=[-float(\"inf\"),-0.1,0.1,float(\"inf\")], \n",
    "       right=False, labels=['C','B','A'])\n",
    "\n",
    "from sklearn.preprocessing import LabelEncoder\n",
    "le = LabelEncoder()\n",
    "\n",
    "train['return_range'] = le.fit_transform(train['return_range'])"
   ]
  },
  {
   "cell_type": "markdown",
   "metadata": {},
   "source": [
    "Note that **code** will be dropped after resampling."
   ]
  },
  {
   "cell_type": "code",
   "execution_count": 106,
   "metadata": {},
   "outputs": [],
   "source": [
    "target = ['return_range']\n",
    "to_drop = ['next_mth_return']\n",
    "features = [column for column in train.columns if column not in target + to_drop]"
   ]
  },
  {
   "cell_type": "markdown",
   "metadata": {},
   "source": [
    "### Splitting into Training and Validation dataset"
   ]
  },
  {
   "cell_type": "markdown",
   "metadata": {},
   "source": [
    "Split data first before resampling.  "
   ]
  },
  {
   "cell_type": "code",
   "execution_count": 107,
   "metadata": {},
   "outputs": [],
   "source": [
    "X = train[features]\n",
    "y = train[target]"
   ]
  },
  {
   "cell_type": "code",
   "execution_count": 108,
   "metadata": {},
   "outputs": [],
   "source": [
    "from sklearn.model_selection import train_test_split\n",
    "from sklearn.preprocessing import LabelEncoder\n",
    "from sklearn.preprocessing import OneHotEncoder\n",
    "from sklearn.preprocessing import StandardScaler\n",
    "\n",
    "X_train, X_valid, y_train, y_valid = train_test_split(X, y, test_size=0.1, stratify=y, random_state=SEED)"
   ]
  },
  {
   "cell_type": "markdown",
   "metadata": {},
   "source": [
    "### Normalising the datasets"
   ]
  },
  {
   "cell_type": "markdown",
   "metadata": {},
   "source": [
    "- Fit and Transform on the training dataset\n",
    "- Transform only on the validation dataset using the scaler fitted with training dataset"
   ]
  },
  {
   "cell_type": "code",
   "execution_count": 109,
   "metadata": {},
   "outputs": [
    {
     "name": "stdout",
     "output_type": "stream",
     "text": [
      "List of columns to scale: ['ACCA', 'ATR14', 'DAVOL20', 'DEGM', 'EBIT', 'GMI', 'Kurtosis20', 'MAC20', 'MFI14', 'PEG', 'PLRC12', 'Price1M', 'ROC20', 'Skewness20', 'TRIX10', 'VMACD', 'VOL20', 'VOSC', 'Variance20', 'Volume1M', 'beta', 'boll_down', 'boll_up', 'book_to_price_ratio', 'cash_flow_to_price_ratio', 'cashflow_per_share_ttm', 'eps_ttm', 'financial_liability', 'growth', 'liquidity', 'market_cap', 'momentum', 'monthly_return', 'net_asset_growth_rate', 'net_asset_per_share', 'net_operate_cash_flow_per_share', 'net_operate_cashflow_growth_rate', 'net_profit_growth_rate', 'net_profit_to_total_operate_revenue_ttm', 'net_profit_ttm', 'operating_revenue_growth_rate', 'retained_earnings_per_share', 'roe_ttm', 'sharpe_ratio_20', 'sharpe_ratio_60', 'size']\n"
     ]
    }
   ],
   "source": [
    "col_toscale = X_train.columns.tolist()\n",
    "col_toscale.remove('code')\n",
    "print('List of columns to scale: {}'.format(col_toscale))"
   ]
  },
  {
   "cell_type": "code",
   "execution_count": 110,
   "metadata": {},
   "outputs": [],
   "source": [
    "def processStdScaler(train, valid, columns):\n",
    "    \n",
    "    train_scaled = train.copy()\n",
    "    valid_scaled = valid.copy()\n",
    "\n",
    "    scaler = StandardScaler()\n",
    "    scaler.fit(train[columns])\n",
    "    train_scaled[columns] = scaler.transform(train[columns])\n",
    "    valid_scaled[columns] = scaler.transform(valid[columns])\n",
    "\n",
    "    return train_scaled, valid_scaled, scaler"
   ]
  },
  {
   "cell_type": "code",
   "execution_count": 111,
   "metadata": {},
   "outputs": [],
   "source": [
    "X_train_std, X_valid_std, scaler = processStdScaler(X_train, X_valid, col_toscale)"
   ]
  },
  {
   "cell_type": "code",
   "execution_count": 112,
   "metadata": {},
   "outputs": [],
   "source": [
    "X_train = X_train_std\n",
    "X_valid = X_valid_std"
   ]
  },
  {
   "cell_type": "markdown",
   "metadata": {},
   "source": [
    "### Resampling the Training dataset\n",
    "Resampling is only done on the training dataset due to imbalanced target variable.  Upsampling will be done and be only conducted after the training dataset is normalised."
   ]
  },
  {
   "cell_type": "code",
   "execution_count": 113,
   "metadata": {},
   "outputs": [
    {
     "data": {
      "text/plain": [
       "return_range\n",
       "0     691\n",
       "1    2267\n",
       "2     408\n",
       "dtype: int64"
      ]
     },
     "execution_count": 113,
     "metadata": {},
     "output_type": "execute_result"
    }
   ],
   "source": [
    "y_train.groupby('return_range').size()"
   ]
  },
  {
   "cell_type": "markdown",
   "metadata": {},
   "source": [
    "Observed imbalanced training data set as shown above"
   ]
  },
  {
   "cell_type": "code",
   "execution_count": 114,
   "metadata": {},
   "outputs": [],
   "source": [
    "from sklearn.utils import resample\n",
    "\n",
    "def upsample_byCol(data, column, code):\n",
    "    maxN = data.groupby(column).size().max()\n",
    "\n",
    "    df = data[data[column] == code]\n",
    "    num = maxN - df.shape[0]\n",
    "    if num > 0:\n",
    "        df_more = resample(df, replace=True, n_samples=num, random_state=SEED)\n",
    "        df = pd.concat([df, df_more])\n",
    "    return df"
   ]
  },
  {
   "cell_type": "markdown",
   "metadata": {},
   "source": [
    "Upsampling securities with fewer observations on training dataset only"
   ]
  },
  {
   "cell_type": "code",
   "execution_count": 115,
   "metadata": {},
   "outputs": [],
   "source": [
    "Xy_train = pd.concat([X_train, y_train], axis = 1)"
   ]
  },
  {
   "cell_type": "code",
   "execution_count": 116,
   "metadata": {},
   "outputs": [],
   "source": [
    "train_resample = []\n",
    "\n",
    "return_ranges = Xy_train['return_range'].unique()\n",
    "for return_range in return_ranges:\n",
    "    code_resampled = upsample_byCol(Xy_train, 'return_range', return_range)\n",
    "    train_resample.append(code_resampled)\n",
    "    \n",
    "Xy_train = pd.concat(train_resample).reset_index(drop=True)\n",
    "Xy_train = Xy_train.sample(frac=1).reset_index(drop=True)"
   ]
  },
  {
   "cell_type": "code",
   "execution_count": 117,
   "metadata": {},
   "outputs": [
    {
     "data": {
      "text/plain": [
       "return_range\n",
       "0    2267\n",
       "1    2267\n",
       "2    2267\n",
       "dtype: int64"
      ]
     },
     "execution_count": 117,
     "metadata": {},
     "output_type": "execute_result"
    }
   ],
   "source": [
    "Xy_train.groupby('return_range').size()"
   ]
  },
  {
   "cell_type": "markdown",
   "metadata": {},
   "source": [
    "After ensuring a balanced training dataset, prepare the features and target of the training and validation dataset respectively."
   ]
  },
  {
   "cell_type": "code",
   "execution_count": 118,
   "metadata": {},
   "outputs": [],
   "source": [
    "target = ['return_range']\n",
    "to_drop = ['code']\n",
    "features = [column for column in Xy_train.columns if column not in target + to_drop]\n",
    "\n",
    "X_train = Xy_train[features]\n",
    "y_train = Xy_train[target]\n",
    "\n",
    "X_valid = X_valid[features]\n",
    "y_valid = y_valid[target]"
   ]
  },
  {
   "cell_type": "markdown",
   "metadata": {},
   "source": [
    "Prepare and check the class weights for model training later."
   ]
  },
  {
   "cell_type": "code",
   "execution_count": 119,
   "metadata": {},
   "outputs": [
    {
     "data": {
      "text/plain": [
       "array([1., 1., 1.])"
      ]
     },
     "execution_count": 119,
     "metadata": {},
     "output_type": "execute_result"
    }
   ],
   "source": [
    "from sklearn.utils import class_weight\n",
    "class_weights = class_weight.compute_class_weight('balanced', np.unique(y_train.return_range), \n",
    "                                                  np.array(y_train.return_range))\n",
    "class_weights"
   ]
  },
  {
   "cell_type": "markdown",
   "metadata": {},
   "source": [
    "### Prepare Training and Validation dataset for GridSearch\n",
    "\n",
    "This will have to be done separately because we need the grid search to tune the parameters by validating against a dataset we provide and not automatically sampled from the training dataset that has been resampled.  We want samples in the validation dataset to be unseen in the training dataset.\n",
    "\n",
    "In order to do this properly for GridSearchCV, we need to use PredefinedSplit and fit GridSearchCV with the full dataset."
   ]
  },
  {
   "cell_type": "code",
   "execution_count": 120,
   "metadata": {},
   "outputs": [],
   "source": [
    "Xy_trainGS = X_train.join(y_train)\n",
    "Xy_validGS = X_valid.join(y_valid)"
   ]
  },
  {
   "cell_type": "code",
   "execution_count": 121,
   "metadata": {},
   "outputs": [],
   "source": [
    "from sklearn.model_selection import PredefinedSplit\n",
    "\n",
    "# Create a list where train data indices are -1 and validation data indices are 0\n",
    "# eg: split_index = [-1 if x in X_train.index else 0 for x in X.index]\n",
    "split_index = [-1] * Xy_trainGS.shape[0] + [0] * Xy_validGS.shape[0] \n",
    "\n",
    "# Use the list to create PredefinedSplit\n",
    "pds_GridSearch = PredefinedSplit(test_fold = split_index)"
   ]
  },
  {
   "cell_type": "code",
   "execution_count": 122,
   "metadata": {},
   "outputs": [],
   "source": [
    "Xy_GS = pd.concat([Xy_trainGS, Xy_validGS]).reset_index(drop=True) \n",
    "X_GS = Xy_GS[features]\n",
    "y_GS = Xy_GS[target]"
   ]
  },
  {
   "cell_type": "markdown",
   "metadata": {},
   "source": [
    "### One Hot Encoding for Target variable"
   ]
  },
  {
   "cell_type": "code",
   "execution_count": 123,
   "metadata": {},
   "outputs": [
    {
     "name": "stdout",
     "output_type": "stream",
     "text": [
      "(6801, 3)\n",
      "(374, 3)\n"
     ]
    }
   ],
   "source": [
    "targetOHE = OneHotEncoder(sparse=False, handle_unknown='error')\n",
    "\n",
    "y_train_ohe = targetOHE.fit_transform(y_train)\n",
    "y_train_ohe = pd.DataFrame(y_train_ohe, columns=targetOHE.get_feature_names())\n",
    "print(y_train_ohe.shape)\n",
    "\n",
    "y_valid_ohe = targetOHE.transform(y_valid)\n",
    "y_valid_ohe = pd.DataFrame(y_valid_ohe, columns=targetOHE.get_feature_names())\n",
    "print(y_valid_ohe.shape)"
   ]
  },
  {
   "cell_type": "code",
   "execution_count": 124,
   "metadata": {},
   "outputs": [
    {
     "name": "stdout",
     "output_type": "stream",
     "text": [
      "(7175, 3)\n"
     ]
    }
   ],
   "source": [
    "y_GS_ohe = targetOHE.transform(y_GS)\n",
    "y_GS_ohe = pd.DataFrame(y_GS_ohe, columns=targetOHE.get_feature_names())\n",
    "print(y_GS_ohe.shape)"
   ]
  },
  {
   "cell_type": "markdown",
   "metadata": {},
   "source": [
    "### Finalising the Datasets"
   ]
  },
  {
   "cell_type": "markdown",
   "metadata": {},
   "source": [
    "Keeping a copy of the validation target dataframe for confusion matrix later"
   ]
  },
  {
   "cell_type": "code",
   "execution_count": 125,
   "metadata": {},
   "outputs": [],
   "source": [
    "y_valid_org = y_valid.copy()"
   ]
  },
  {
   "cell_type": "markdown",
   "metadata": {},
   "source": [
    "Convert to numpy arrays for tensorflow keras model training"
   ]
  },
  {
   "cell_type": "code",
   "execution_count": 126,
   "metadata": {},
   "outputs": [],
   "source": [
    "X_train = np.array(X_train)\n",
    "y_train = np.array(y_train_ohe)\n",
    "X_valid = np.array(X_valid)\n",
    "y_valid = np.array(y_valid_ohe)\n",
    "\n",
    "X_GS = np.array(X_GS)\n",
    "y_GS = np.array(y_GS_ohe)"
   ]
  },
  {
   "cell_type": "markdown",
   "metadata": {},
   "source": [
    "## Building Deep Learning Model"
   ]
  },
  {
   "cell_type": "markdown",
   "metadata": {},
   "source": [
    "Loading the model libraries"
   ]
  },
  {
   "cell_type": "code",
   "execution_count": 127,
   "metadata": {},
   "outputs": [],
   "source": [
    "from sklearn.model_selection import RepeatedStratifiedKFold\n",
    "from sklearn.model_selection import cross_val_score, ShuffleSplit, cross_validate\n",
    "\n",
    "from sklearn.metrics import accuracy_score\n",
    "from sklearn.metrics import mean_squared_error "
   ]
  },
  {
   "cell_type": "code",
   "execution_count": 128,
   "metadata": {},
   "outputs": [],
   "source": [
    "from tensorflow.keras.models import Sequential\n",
    "from tensorflow.keras.layers import Dense, BatchNormalization, Dropout\n",
    "from tensorflow.keras.optimizers import RMSprop, Adam\n",
    "from tensorflow.keras.callbacks import EarlyStopping, ModelCheckpoint"
   ]
  },
  {
   "cell_type": "code",
   "execution_count": 129,
   "metadata": {},
   "outputs": [
    {
     "name": "stdout",
     "output_type": "stream",
     "text": [
      "Number of inputs to neural network: 46\n",
      "Number of training observations: 6801\n",
      "Number of target outputs: 3\n"
     ]
    }
   ],
   "source": [
    "INPUTS = X_train.shape[1]\n",
    "TRAINING_OBSERVATIONS = X_train.shape[0]\n",
    "NUM_OF_OUTPUTS = y_train_ohe.shape[1]\n",
    "print('Number of inputs to neural network: {}'.format(INPUTS))\n",
    "print('Number of training observations: {}'.format(TRAINING_OBSERVATIONS))\n",
    "print('Number of target outputs: {}'.format(NUM_OF_OUTPUTS))"
   ]
  },
  {
   "cell_type": "markdown",
   "metadata": {},
   "source": [
    "### Defining model structure"
   ]
  },
  {
   "cell_type": "code",
   "execution_count": 130,
   "metadata": {},
   "outputs": [],
   "source": [
    "METRICS = [\n",
    "    tf.keras.metrics.BinaryAccuracy(name='accuracy'),\n",
    "    tf.keras.metrics.AUC(multi_label=True, name='auc'),\n",
    "#     tf.keras.metrics.TruePositives(name='tp'),\n",
    "#     tf.keras.metrics.FalsePositives(name='fp'),\n",
    "#     tf.keras.metrics.TrueNegatives(name='tn'),\n",
    "#     tf.keras.metrics.FalseNegatives(name='fn'), \n",
    "#     tf.keras.metrics.Precision(name='precision'),\n",
    "#     tf.keras.metrics.Recall(name='recall'),\n",
    "]\n",
    "\n",
    "def build_model(nodes=(4,4,4), activation='relu', learning_rate=0.002, input_dropout=0.05, metrics=METRICS):\n",
    "    model = Sequential()\n",
    "\n",
    "    model.add(Dense(nodes[0], input_shape=(INPUTS,), activation=activation, \\\n",
    "                    kernel_initializer='normal'))\n",
    "    model.add(tf.keras.layers.Dropout(input_dropout))\n",
    "    \n",
    "    for node in nodes[1:]:\n",
    "        model.add(Dense(node, activation=activation, kernel_initializer='normal'))\n",
    "        model.add(tf.keras.layers.Dropout(input_dropout))\n",
    "\n",
    "    model.add(Dense(NUM_OF_OUTPUTS, activation='softmax'))\n",
    "\n",
    "    opt = Adam(lr=learning_rate, beta_1=0.9, beta_2=0.99, epsilon=None, decay=0.0, amsgrad=False)\n",
    "\n",
    "#     model.compile(optimizer=opt, loss='categorical_crossentropy', metrics=['accuracy'])\n",
    "    model.compile(optimizer=opt, loss='categorical_crossentropy', metrics=metrics)\n",
    "\n",
    "    return model"
   ]
  },
  {
   "cell_type": "markdown",
   "metadata": {},
   "source": [
    "### Hyperparameter Tuning\n",
    "Setting the GridSearchCV parameters.  Limiting the number of parameters to tune here as the computation resources on the JoinQuant research environment is limited.\n",
    "\n",
    "**Tunable Parameters**  \n",
    "1. Number of the dense layer in the deep learning model\n",
    "2. Activation function\n",
    "3. Batch Size\n",
    "4. Number of Training Epoch\n",
    "5. Learning Rate for Optimiser\n",
    "6. Dropout Ratio for the dropout layer"
   ]
  },
  {
   "cell_type": "code",
   "execution_count": 164,
   "metadata": {},
   "outputs": [
    {
     "name": "stdout",
     "output_type": "stream",
     "text": [
      "{'nodes': [(16, 16, 16), (16, 16, 32), (16, 16, 64), (16, 32, 16), (16, 32, 32), (16, 32, 64), (16, 64, 16), (16, 64, 32), (16, 64, 64), (32, 16, 16), (32, 16, 32), (32, 16, 64), (32, 32, 16), (32, 32, 32), (32, 32, 64), (32, 64, 16), (32, 64, 32), (32, 64, 64), (64, 16, 16), (64, 16, 32), (64, 16, 64), (64, 32, 16), (64, 32, 32), (64, 32, 64), (64, 64, 16), (64, 64, 32), (64, 64, 64)], 'activation': ['relu'], 'batch_size': [1024], 'epochs': [200], 'input_dropout': [0, 0.3, 0.5], 'learning_rate': [0.001, 0.0005]}\n"
     ]
    }
   ],
   "source": [
    "import itertools\n",
    "\n",
    "layer1 = [16,32,64]\n",
    "layer2 = [16,32,64]\n",
    "layer3 = [16,32,64]\n",
    "layers = [layer1, layer2, layer3]\n",
    "\n",
    "NODES_LIST = list(itertools.product(*layers))\n",
    "ACTIVATION_LIST = ['relu'] ## 'relu', 'sigmoid', 'tanh', 'leaky_relu'\n",
    "BATCHSIZE_LIST = [1024]\n",
    "EPOCHS_LIST = [200]\n",
    "LEARNINGRATE_LIST = [0.001,0.0005]\n",
    "INPUTDROPOUT_LIST = [0,0.3,0.5]\n",
    "\n",
    "# Define the parameters to try out\n",
    "params = {'nodes': NODES_LIST, \n",
    "          'activation': ACTIVATION_LIST, \n",
    "          'batch_size': BATCHSIZE_LIST, \n",
    "          'epochs': EPOCHS_LIST, \n",
    "          'input_dropout': INPUTDROPOUT_LIST, \n",
    "          'learning_rate': LEARNINGRATE_LIST}\n",
    "\n",
    "print(params)"
   ]
  },
  {
   "cell_type": "code",
   "execution_count": 165,
   "metadata": {},
   "outputs": [],
   "source": [
    "# Import KerasClassifier from keras wrappers\n",
    "from tensorflow.keras.wrappers.scikit_learn import KerasClassifier\n",
    "from sklearn.model_selection import GridSearchCV\n",
    "\n",
    "# Create a KerasClassifier\n",
    "grid_buildmodel = KerasClassifier(build_fn = build_model)\n",
    "\n",
    "grid_search = GridSearchCV(grid_buildmodel, param_grid = params, \n",
    "                           cv = pds_GridSearch, #scoring='roc_auc_ovr',\n",
    "                           verbose=0, return_train_score=True)"
   ]
  },
  {
   "cell_type": "markdown",
   "metadata": {},
   "source": [
    "Fit using the GS dataset because using PredefinedSplit here"
   ]
  },
  {
   "cell_type": "code",
   "execution_count": 166,
   "metadata": {
    "scrolled": true
   },
   "outputs": [
    {
     "data": {
      "text/plain": [
       "GridSearchCV(cv=PredefinedSplit(test_fold=array([-1, -1, ...,  0,  0])),\n",
       "             error_score=nan,\n",
       "             estimator=<tensorflow.python.keras.wrappers.scikit_learn.KerasClassifier object at 0x7f16cc5da9d0>,\n",
       "             iid='deprecated', n_jobs=None,\n",
       "             param_grid={'activation': ['relu'], 'batch_size': [1024],\n",
       "                         'epochs': [200], 'input_dropout': [0, 0.3, 0.5],\n",
       "                         'learning_rate': [0.001, 0.0005],\n",
       "                         'nodes': [(16, 16...),\n",
       "                                   (16, 32, 16), (16, 32, 32), (16, 32, 64),\n",
       "                                   (16, 64, 16), (16, 64, 32), (16, 64, 64),\n",
       "                                   (32, 16, 16), (32, 16, 32), (32, 16, 64),\n",
       "                                   (32, 32, 16), (32, 32, 32), (32, 32, 64),\n",
       "                                   (32, 64, 16), (32, 64, 32), (32, 64, 64),\n",
       "                                   (64, 16, 16), (64, 16, 32), (64, 16, 64),\n",
       "                                   (64, 32, 16), (64, 32, 32), (64, 32, 64),\n",
       "                                   (64, 64, 16), (64, 64, 32), (64, 64, 64)]},\n",
       "             pre_dispatch='2*n_jobs', refit=True, return_train_score=True,\n",
       "             scoring=None, verbose=0)"
      ]
     },
     "execution_count": 166,
     "metadata": {},
     "output_type": "execute_result"
    }
   ],
   "source": [
    "%%capture --no-display gridsearchlog\n",
    "\n",
    "class_weights_dict = dict(enumerate(class_weights))\n",
    "%time grid_search.fit(X_GS, y_GS, class_weight = class_weights_dict)"
   ]
  },
  {
   "cell_type": "code",
   "execution_count": 167,
   "metadata": {},
   "outputs": [
    {
     "name": "stdout",
     "output_type": "stream",
     "text": [
      "The best score: 0.786\n",
      "The optimal parameters: {'activation': 'relu', 'batch_size': 1024, 'epochs': 200, 'input_dropout': 0.5, 'learning_rate': 0.0005, 'nodes': (64, 64, 16)}\n"
     ]
    }
   ],
   "source": [
    "best_parameters = grid_search.best_params_\n",
    "best_score = grid_search.best_score_\n",
    "\n",
    "print('The best score: {:.3f}'.format(best_score))\n",
    "print('The optimal parameters: {}'.format(best_parameters))"
   ]
  },
  {
   "cell_type": "markdown",
   "metadata": {},
   "source": [
    "### Building Best Model "
   ]
  },
  {
   "cell_type": "markdown",
   "metadata": {},
   "source": [
    "Updating the model to use the best hyperparameters"
   ]
  },
  {
   "cell_type": "code",
   "execution_count": 168,
   "metadata": {},
   "outputs": [
    {
     "name": "stdout",
     "output_type": "stream",
     "text": [
      "Model: \"sequential_197\"\n",
      "_________________________________________________________________\n",
      "Layer (type)                 Output Shape              Param #   \n",
      "=================================================================\n",
      "dense_788 (Dense)            (None, 64)                3008      \n",
      "_________________________________________________________________\n",
      "dropout_591 (Dropout)        (None, 64)                0         \n",
      "_________________________________________________________________\n",
      "dense_789 (Dense)            (None, 64)                4160      \n",
      "_________________________________________________________________\n",
      "dropout_592 (Dropout)        (None, 64)                0         \n",
      "_________________________________________________________________\n",
      "dense_790 (Dense)            (None, 16)                1040      \n",
      "_________________________________________________________________\n",
      "dropout_593 (Dropout)        (None, 16)                0         \n",
      "_________________________________________________________________\n",
      "dense_791 (Dense)            (None, 3)                 51        \n",
      "=================================================================\n",
      "Total params: 8,259\n",
      "Trainable params: 8,259\n",
      "Non-trainable params: 0\n",
      "_________________________________________________________________\n"
     ]
    }
   ],
   "source": [
    "NODES = ((64,64,16))\n",
    "LR = 0.0005\n",
    "ACTIVATION = 'relu'\n",
    "EPOCHS = 200\n",
    "BATCH_SIZE = 1024\n",
    "INPUT_DROPOUT = 0.5\n",
    "PATIENCE = int(EPOCHS * 0.1)    ## To reduce training time.  \n",
    "                                ## Early stopping when there is no further \n",
    "                                ## improvement after 10% of Epoch\n",
    "\n",
    "# Define a callback to monitor val_accuracy\n",
    "monitor_val_acc = EarlyStopping(monitor='val_accuracy', patience=PATIENCE)\n",
    "\n",
    "# Save the best model\n",
    "save_model_chkpt = ModelCheckpoint('../model/best_model.hdf5', monitor='val_loss', \n",
    "                                   save_best_only=True, mode='min')\n",
    "\n",
    "CALLBACKS = [save_model_chkpt, monitor_val_acc]\n",
    "\n",
    "model = build_model(nodes=NODES, activation=ACTIVATION, learning_rate=LR, \\\n",
    "                    input_dropout=INPUT_DROPOUT)\n",
    "model.summary()"
   ]
  },
  {
   "cell_type": "code",
   "execution_count": 169,
   "metadata": {},
   "outputs": [],
   "source": [
    "class_weights_dict = dict(enumerate(class_weights))\n",
    "history = model.fit(X_train, y_train, epochs=EPOCHS, \n",
    "                    validation_data=(X_valid, y_valid), \n",
    "                    batch_size=BATCH_SIZE, verbose=0,\n",
    "                    class_weight = class_weights_dict,\n",
    "                    callbacks=CALLBACKS)"
   ]
  },
  {
   "cell_type": "markdown",
   "metadata": {},
   "source": [
    "Plotting the training and validation accuracy and losses over the epochs.  For the model to be training well, the training and validation accuracy should increase and then flatten as epoch increases.  Expect training accuracy to be marginally better than validation.  We should not overfit the model.  Training and validation accuracy should reduce.  Training should stop if the validation losses widens."
   ]
  },
  {
   "cell_type": "code",
   "execution_count": 170,
   "metadata": {},
   "outputs": [],
   "source": [
    "def plot_results(data, val_data, title='Results', N=0.05):\n",
    "    upper_limit = np.max(val_data + data)*(1+N)\n",
    "    lower_limit = np.min(val_data + data)*(1-N)\n",
    "    plt.figure()\n",
    "    plt.plot(data)\n",
    "    plt.plot(val_data)\n",
    "    plt.ylim([lower_limit, upper_limit])\n",
    "    plt.title(title)\n",
    "    plt.ylabel(title)\n",
    "    plt.xlabel('Epoch')\n",
    "    plt.legend(['Train', 'Test'], loc='upper right')\n",
    "    plt.show()"
   ]
  },
  {
   "cell_type": "code",
   "execution_count": 171,
   "metadata": {},
   "outputs": [
    {
     "data": {
      "image/png": "[encoded data removed]",
      "text/plain": [
       "<Figure size 900x360 with 1 Axes>"
      ]
     },
     "metadata": {},
     "output_type": "display_data"
    },
    {
     "data": {
      "image/png": "[encoded data removed]",
      "text/plain": [
       "<Figure size 900x360 with 1 Axes>"
      ]
     },
     "metadata": {},
     "output_type": "display_data"
    }
   ],
   "source": [
    "# Plot train vs validation loss during training\n",
    "plot_results(history.history['loss'], history.history['val_loss'], 'Model Loss')\n",
    "\n",
    "# Plot train vs validation accuracy during training\n",
    "plot_results(history.history['accuracy'], history.history['val_accuracy'], 'Mean Accuracy')"
   ]
  },
  {
   "cell_type": "code",
   "execution_count": 172,
   "metadata": {},
   "outputs": [
    {
     "name": "stdout",
     "output_type": "stream",
     "text": [
      "12/12 [==============================] - 0s 1ms/step - loss: 0.9248 - accuracy: 0.7460 - auc: 0.6954\n",
      "Model Evaluation Loss: 0.925\n"
     ]
    }
   ],
   "source": [
    "print('Model Evaluation Loss: {:.3f}'.format(model.evaluate(X_valid, y_valid)[0]))"
   ]
  },
  {
   "cell_type": "markdown",
   "metadata": {},
   "source": [
    "Loading the best model weights"
   ]
  },
  {
   "cell_type": "code",
   "execution_count": 173,
   "metadata": {},
   "outputs": [
    {
     "name": "stdout",
     "output_type": "stream",
     "text": [
      "12/12 [==============================] - 0s 1ms/step - loss: 0.9094 - accuracy: 0.7460 - auc: 0.6973\n"
     ]
    },
    {
     "data": {
      "text/plain": [
       "[0.9093891382217407, 0.745989203453064, 0.697329580783844]"
      ]
     },
     "execution_count": 173,
     "metadata": {},
     "output_type": "execute_result"
    }
   ],
   "source": [
    "model.load_weights('../model/best_model.hdf5')\n",
    "model.evaluate(X_valid, y_valid)"
   ]
  },
  {
   "cell_type": "markdown",
   "metadata": {},
   "source": [
    "### Model Performance"
   ]
  },
  {
   "cell_type": "code",
   "execution_count": 174,
   "metadata": {},
   "outputs": [],
   "source": [
    "import itertools\n",
    "\n",
    "def plot_confusion_matrix(cm, classes,\n",
    "                          normalize=False,\n",
    "                          title='Confusion matrix',\n",
    "                          cmap=plt.cm.Blues):\n",
    "    \"\"\"\n",
    "    This function prints and plots the confusion matrix.\n",
    "    Normalization can be applied by setting `normalize=True`.\n",
    "    \"\"\"\n",
    "    plt.imshow(cm, interpolation='nearest', cmap=cmap)\n",
    "    plt.title(title)\n",
    "    plt.colorbar()\n",
    "    tick_marks = np.arange(len(classes))\n",
    "    plt.xticks(tick_marks, classes, rotation=45)\n",
    "    plt.yticks(tick_marks, classes)\n",
    "\n",
    "    if normalize:\n",
    "        cm = cm.astype('float') / cm.sum(axis=1)[:, np.newaxis]\n",
    "#         print(\"Normalized confusion matrix\")\n",
    "#     else:\n",
    "#         print('Confusion matrix, without normalization')\n",
    "\n",
    "#     print(cm)\n",
    "\n",
    "    thresh = cm.max() / 2.\n",
    "    for i, j in itertools.product(range(cm.shape[0]), range(cm.shape[1])):\n",
    "        plt.text(j, i, cm[i, j],\n",
    "                 horizontalalignment=\"center\",\n",
    "                 color=\"white\" if cm[i, j] > thresh else \"black\")\n",
    "\n",
    "    plt.tight_layout()\n",
    "    plt.ylabel('True label')\n",
    "    plt.xlabel('Predicted label')"
   ]
  },
  {
   "cell_type": "markdown",
   "metadata": {},
   "source": [
    "Append the predicted results with the actual validation results for comparsion"
   ]
  },
  {
   "cell_type": "code",
   "execution_count": 175,
   "metadata": {},
   "outputs": [],
   "source": [
    "y_valid_org['predicted_range'] = np.argmax(model.predict(X_valid), axis=1)"
   ]
  },
  {
   "cell_type": "markdown",
   "metadata": {},
   "source": [
    "#### Confusion Matrix"
   ]
  },
  {
   "cell_type": "markdown",
   "metadata": {},
   "source": [
    "For a good enough model and given that the trading strategy is to go long on those securities predicted to have at least 10% returns (Category A) and to go short on those securities predicted to have at least -10% returns (Category C), we need the precision of A and C to be high.  In particularly, numbers at the bottom-left and top-right to be small."
   ]
  },
  {
   "cell_type": "code",
   "execution_count": 176,
   "metadata": {},
   "outputs": [
    {
     "data": {
      "image/png": "[encoded data removed]",
      "text/plain": [
       "<Figure size 900x360 with 2 Axes>"
      ]
     },
     "metadata": {},
     "output_type": "display_data"
    }
   ],
   "source": [
    "#importing confusion matrix\n",
    "\n",
    "from sklearn.metrics import confusion_matrix\n",
    "confusion = confusion_matrix(y_valid_org['return_range'], y_valid_org['predicted_range'])\n",
    "\n",
    "plot_confusion_matrix(confusion, ['A','B','C'], False)\n",
    "plt.show()"
   ]
  },
  {
   "cell_type": "markdown",
   "metadata": {},
   "source": [
    "#### Classification Report"
   ]
  },
  {
   "cell_type": "code",
   "execution_count": 177,
   "metadata": {},
   "outputs": [
    {
     "name": "stdout",
     "output_type": "stream",
     "text": [
      "              precision    recall  f1-score   support\n",
      "\n",
      "           A       0.36      0.42      0.38        77\n",
      "           B       0.79      0.69      0.74       252\n",
      "           C       0.43      0.60      0.50        45\n",
      "\n",
      "    accuracy                           0.63       374\n",
      "   macro avg       0.53      0.57      0.54       374\n",
      "weighted avg       0.66      0.63      0.64       374\n",
      "\n"
     ]
    }
   ],
   "source": [
    "from sklearn.metrics import classification_report\n",
    "\n",
    "print(classification_report(y_valid_org['return_range'], y_valid_org['predicted_range'], \n",
    "                            target_names=['A', 'B', 'C']))"
   ]
  },
  {
   "cell_type": "markdown",
   "metadata": {},
   "source": [
    "## Stock Selection and Trading Strategy\n",
    "- Using the model trained on past 3 years data: 2015-2017, predict the stocks that may outperform on each month betweeen 2018 to 2020 using factors observed on previous month respectively.\n",
    "- The top **10** securities in category **A** based on predicted probability will be selected for the month to go **long**.  Only securities with predicted probability of at least 0.5 in that category is selected.  \n",
    "- The top **10** securities in category **C** based on predicted probability will be selected for the month to go **short**.  Only securities with predicted probability of at least 0.5 in that category is selected.  \n",
    "- All positions will be closed end of the month and the new batch of securites will be selected.\n",
    "- Transaction cost is ignored in this analysis.\n",
    "- Potentially, the model should be retrained based on the recent data available and using the updated model to perform stock selection.  However, due to complexity in retraining the models, this is not done in this analysis."
   ]
  },
  {
   "cell_type": "code",
   "execution_count": 178,
   "metadata": {},
   "outputs": [],
   "source": [
    "def applyStdScaler(data, columns, scaler_fitted):\n",
    "    data_scaled = data.copy()\n",
    "    data_scaled[columns] = scaler_fitted.transform(data[columns])\n",
    "    return data_scaled"
   ]
  },
  {
   "cell_type": "code",
   "execution_count": 179,
   "metadata": {},
   "outputs": [],
   "source": [
    "from datetime import date, timedelta, datetime\n",
    "from dateutil.relativedelta import relativedelta\n",
    "\n",
    "def selectStockByMonth(predictmonth):\n",
    "\n",
    "    datamonth = datetime.strptime(predictmonth, '%Y-%m') + relativedelta(months=-1)\n",
    "    datamonth = datamonth.strftime(\"%Y-%m\")\n",
    "\n",
    "    test = getDataByDate(datamonth).reset_index(drop=True)\n",
    "\n",
    "    test.dropna(axis=0, inplace=True)\n",
    "\n",
    "    to_drop = ['code', 'next_mth_return']\n",
    "    features = [column for column in test.columns if column not in to_drop]\n",
    "\n",
    "    X = test[features]\n",
    "\n",
    "    X_std = applyStdScaler(X, col_toscale, scaler)\n",
    "    X_std = pd.DataFrame(X_std, columns=X.columns)\n",
    "\n",
    "    predicted_category = np.argmax(model.predict(X_std), axis=1)\n",
    "    predicted_probability = np.max(model.predict(X_std), axis=1)\n",
    "\n",
    "    results = pd.DataFrame(test.code)\n",
    "    results['predictmonth'] = predictmonth\n",
    "    results['predicted_range'] = predicted_category\n",
    "    results['predicted_prob'] = predicted_probability\n",
    "    \n",
    "    CONFIDENCE = 0.5\n",
    "    NUM_OF_STOCKS = 20\n",
    "    \n",
    "    to_long = results[(results.predicted_range == 0) & \n",
    "                      (results.predicted_prob > CONFIDENCE)].sort_values('predicted_prob', \n",
    "                                                             ascending=False).head(NUM_OF_STOCKS)\n",
    "    to_short = results[(results.predicted_range == 2) & \n",
    "                       (results.predicted_prob > CONFIDENCE)].sort_values('predicted_prob', \n",
    "                                                             ascending=False).head(NUM_OF_STOCKS)\n",
    "    return to_long, to_short"
   ]
  },
  {
   "cell_type": "code",
   "execution_count": 180,
   "metadata": {},
   "outputs": [],
   "source": [
    "def getSecurityName(symbol):\n",
    "    security = security_list.loc[symbol]\n",
    "    return security.display_name, security.stock_name\n",
    "\n",
    "def getMonthlyReturn(date, symbol):\n",
    "    return monthly_returns.loc[pd.IndexSlice[date, :], symbol].values[0]"
   ]
  },
  {
   "cell_type": "code",
   "execution_count": 181,
   "metadata": {},
   "outputs": [],
   "source": [
    "def calcPortfolioReturn(stock_returns):\n",
    "    \n",
    "    num_stock = len(stock_returns)\n",
    "    ## Assume equally weighted portfolio\n",
    "    weights = np.ones(num_stock) / num_stock\n",
    "    \n",
    "    return sum(weights * stock_returns)"
   ]
  },
  {
   "cell_type": "code",
   "execution_count": 182,
   "metadata": {},
   "outputs": [],
   "source": [
    "from matplotlib import patheffects\n",
    "\n",
    "def plotTimeSeries(series, title='', xlabel='', ylabel='', tickermap=''): \n",
    "    FIG_SIZE = (20,8)\n",
    "    ax = series.plot(figsize=FIG_SIZE, fontsize=12, linewidth=3, linestyle='-')\n",
    "    ax.set_xlabel(xlabel, fontsize = 16)\n",
    "    ax.set_ylabel(ylabel, fontsize = 16)\n",
    "    \n",
    "    title_text_obj = ax.set_title(title, fontsize = 18, verticalalignment = 'bottom')\n",
    "    title_text_obj.set_path_effects([patheffects.withSimplePatchShadow()])\n",
    "    # pe = patheffects.withSimplePatchShadow(offset = (1, -1), shadow_rgbFace = (1,0,0), calpha = 0.8)\n",
    "\n",
    "    names = series.columns\n",
    "    if tickermap:\n",
    "        names = names.map(tickermap)\n",
    "        \n",
    "    ax.legend(names, fontsize = 16)\n",
    "    plt.show()"
   ]
  },
  {
   "cell_type": "markdown",
   "metadata": {},
   "source": [
    "Creating the months for stock return predictions"
   ]
  },
  {
   "cell_type": "code",
   "execution_count": 183,
   "metadata": {},
   "outputs": [],
   "source": [
    "predict_startdate = '2018-01-01'\n",
    "predict_enddate = '2020-07-01'\n",
    "predict_months = pd.date_range(predict_startdate, predict_enddate, freq='M').strftime(\"%Y-%m\").tolist()"
   ]
  },
  {
   "cell_type": "code",
   "execution_count": 184,
   "metadata": {},
   "outputs": [
    {
     "name": "stdout",
     "output_type": "stream",
     "text": [
      "['2018-01', '2018-02', '2018-03', '2018-04', '2018-05', '2018-06', '2018-07', '2018-08', '2018-09', '2018-10', '2018-11', '2018-12', '2019-01', '2019-02', '2019-03', '2019-04', '2019-05', '2019-06', '2019-07', '2019-08', '2019-09', '2019-10', '2019-11', '2019-12', '2020-01', '2020-02', '2020-03', '2020-04', '2020-05', '2020-06']\n"
     ]
    }
   ],
   "source": [
    "print(predict_months)"
   ]
  },
  {
   "cell_type": "markdown",
   "metadata": {},
   "source": [
    "Prepare both long and short security selection and fetch their respective actual returns for each month"
   ]
  },
  {
   "cell_type": "code",
   "execution_count": 185,
   "metadata": {},
   "outputs": [],
   "source": [
    "predicted_tolong = []\n",
    "predicted_toshort = []\n",
    "\n",
    "for month in predict_months:\n",
    "    to_long, to_short = selectStockByMonth(month)\n",
    "    predicted_tolong.append(to_long)   \n",
    "    predicted_toshort.append(to_short) \n",
    "\n",
    "predicted_tolong = pd.concat(predicted_tolong).reset_index(drop=True)\n",
    "predicted_toshort = pd.concat(predicted_toshort).reset_index(drop=True)\n",
    "predicted_tolong['type'] = 'Long'\n",
    "predicted_toshort['type'] = 'Short'"
   ]
  },
  {
   "cell_type": "code",
   "execution_count": 186,
   "metadata": {},
   "outputs": [],
   "source": [
    "predicted_tolong['monthly_returns'] = predicted_tolong.apply(\n",
    "    lambda x: getMonthlyReturn(x['predictmonth'], x['code']), axis=1)\n",
    "predicted_toshort['monthly_returns'] = predicted_toshort.apply(\n",
    "    lambda x: -1 * getMonthlyReturn(x['predictmonth'], x['code']), axis=1)\n",
    "\n",
    "predicted_results = pd.concat([predicted_tolong, predicted_toshort])\n",
    "predicted_results['display_name'] = predicted_results['code'].apply(lambda x: getSecurityName(x)[0])\n",
    "predicted_results['name'] = predicted_results['code'].apply(lambda x: getSecurityName(x)[1])"
   ]
  },
  {
   "cell_type": "code",
   "execution_count": 187,
   "metadata": {},
   "outputs": [
    {
     "data": {
      "text/html": [
       "<div>\n",
       "<style scoped>\n",
       "    .dataframe tbody tr th:only-of-type {\n",
       "        vertical-align: middle;\n",
       "    }\n",
       "\n",
       "    .dataframe tbody tr th {\n",
       "        vertical-align: top;\n",
       "    }\n",
       "\n",
       "    .dataframe thead th {\n",
       "        text-align: right;\n",
       "    }\n",
       "</style>\n",
       "<table border=\"1\" class=\"dataframe\">\n",
       "  <thead>\n",
       "    <tr style=\"text-align: right;\">\n",
       "      <th></th>\n",
       "      <th>code</th>\n",
       "      <th>predictmonth</th>\n",
       "      <th>predicted_range</th>\n",
       "      <th>predicted_prob</th>\n",
       "      <th>type</th>\n",
       "      <th>monthly_returns</th>\n",
       "      <th>display_name</th>\n",
       "      <th>name</th>\n",
       "    </tr>\n",
       "  </thead>\n",
       "  <tbody>\n",
       "    <tr>\n",
       "      <th>0</th>\n",
       "      <td>002120.XSHE</td>\n",
       "      <td>2018-01</td>\n",
       "      <td>0</td>\n",
       "      <td>0.702328</td>\n",
       "      <td>Long</td>\n",
       "      <td>-0.063945</td>\n",
       "      <td>韵达股份</td>\n",
       "      <td>YDGF</td>\n",
       "    </tr>\n",
       "    <tr>\n",
       "      <th>1</th>\n",
       "      <td>600029.XSHG</td>\n",
       "      <td>2018-01</td>\n",
       "      <td>0</td>\n",
       "      <td>0.678536</td>\n",
       "      <td>Long</td>\n",
       "      <td>-0.011986</td>\n",
       "      <td>南方航空</td>\n",
       "      <td>NFHK</td>\n",
       "    </tr>\n",
       "    <tr>\n",
       "      <th>2</th>\n",
       "      <td>600547.XSHG</td>\n",
       "      <td>2018-01</td>\n",
       "      <td>0</td>\n",
       "      <td>0.626887</td>\n",
       "      <td>Long</td>\n",
       "      <td>0.018979</td>\n",
       "      <td>山东黄金</td>\n",
       "      <td>SDHJ</td>\n",
       "    </tr>\n",
       "    <tr>\n",
       "      <th>3</th>\n",
       "      <td>600516.XSHG</td>\n",
       "      <td>2018-01</td>\n",
       "      <td>0</td>\n",
       "      <td>0.604906</td>\n",
       "      <td>Long</td>\n",
       "      <td>0.026194</td>\n",
       "      <td>方大炭素</td>\n",
       "      <td>FDTS</td>\n",
       "    </tr>\n",
       "    <tr>\n",
       "      <th>4</th>\n",
       "      <td>002001.XSHE</td>\n",
       "      <td>2018-01</td>\n",
       "      <td>0</td>\n",
       "      <td>0.595481</td>\n",
       "      <td>Long</td>\n",
       "      <td>0.033654</td>\n",
       "      <td>新和成</td>\n",
       "      <td>XHC</td>\n",
       "    </tr>\n",
       "    <tr>\n",
       "      <th>...</th>\n",
       "      <td>...</td>\n",
       "      <td>...</td>\n",
       "      <td>...</td>\n",
       "      <td>...</td>\n",
       "      <td>...</td>\n",
       "      <td>...</td>\n",
       "      <td>...</td>\n",
       "      <td>...</td>\n",
       "    </tr>\n",
       "    <tr>\n",
       "      <th>145</th>\n",
       "      <td>603288.XSHG</td>\n",
       "      <td>2020-06</td>\n",
       "      <td>2</td>\n",
       "      <td>0.657874</td>\n",
       "      <td>Short</td>\n",
       "      <td>-0.082681</td>\n",
       "      <td>海天味业</td>\n",
       "      <td>HTWY</td>\n",
       "    </tr>\n",
       "    <tr>\n",
       "      <th>146</th>\n",
       "      <td>300059.XSHE</td>\n",
       "      <td>2020-06</td>\n",
       "      <td>2</td>\n",
       "      <td>0.653877</td>\n",
       "      <td>Short</td>\n",
       "      <td>-0.417544</td>\n",
       "      <td>东方财富</td>\n",
       "      <td>DFCF</td>\n",
       "    </tr>\n",
       "    <tr>\n",
       "      <th>147</th>\n",
       "      <td>603986.XSHG</td>\n",
       "      <td>2020-06</td>\n",
       "      <td>2</td>\n",
       "      <td>0.601100</td>\n",
       "      <td>Short</td>\n",
       "      <td>-0.219867</td>\n",
       "      <td>兆易创新</td>\n",
       "      <td>ZYCX</td>\n",
       "    </tr>\n",
       "    <tr>\n",
       "      <th>148</th>\n",
       "      <td>300015.XSHE</td>\n",
       "      <td>2020-06</td>\n",
       "      <td>2</td>\n",
       "      <td>0.588870</td>\n",
       "      <td>Short</td>\n",
       "      <td>-0.109551</td>\n",
       "      <td>爱尔眼科</td>\n",
       "      <td>AEYK</td>\n",
       "    </tr>\n",
       "    <tr>\n",
       "      <th>149</th>\n",
       "      <td>002129.XSHE</td>\n",
       "      <td>2020-06</td>\n",
       "      <td>2</td>\n",
       "      <td>0.549015</td>\n",
       "      <td>Short</td>\n",
       "      <td>-0.281232</td>\n",
       "      <td>中环股份</td>\n",
       "      <td>ZHGF</td>\n",
       "    </tr>\n",
       "  </tbody>\n",
       "</table>\n",
       "<p>710 rows × 8 columns</p>\n",
       "</div>"
      ],
      "text/plain": [
       "            code predictmonth  predicted_range  predicted_prob   type  \\\n",
       "0    002120.XSHE      2018-01                0        0.702328   Long   \n",
       "1    600029.XSHG      2018-01                0        0.678536   Long   \n",
       "2    600547.XSHG      2018-01                0        0.626887   Long   \n",
       "3    600516.XSHG      2018-01                0        0.604906   Long   \n",
       "4    002001.XSHE      2018-01                0        0.595481   Long   \n",
       "..           ...          ...              ...             ...    ...   \n",
       "145  603288.XSHG      2020-06                2        0.657874  Short   \n",
       "146  300059.XSHE      2020-06                2        0.653877  Short   \n",
       "147  603986.XSHG      2020-06                2        0.601100  Short   \n",
       "148  300015.XSHE      2020-06                2        0.588870  Short   \n",
       "149  002129.XSHE      2020-06                2        0.549015  Short   \n",
       "\n",
       "     monthly_returns display_name  name  \n",
       "0          -0.063945         韵达股份  YDGF  \n",
       "1          -0.011986         南方航空  NFHK  \n",
       "2           0.018979         山东黄金  SDHJ  \n",
       "3           0.026194         方大炭素  FDTS  \n",
       "4           0.033654          新和成   XHC  \n",
       "..               ...          ...   ...  \n",
       "145        -0.082681         海天味业  HTWY  \n",
       "146        -0.417544         东方财富  DFCF  \n",
       "147        -0.219867         兆易创新  ZYCX  \n",
       "148        -0.109551         爱尔眼科  AEYK  \n",
       "149        -0.281232         中环股份  ZHGF  \n",
       "\n",
       "[710 rows x 8 columns]"
      ]
     },
     "execution_count": 187,
     "metadata": {},
     "output_type": "execute_result"
    }
   ],
   "source": [
    "predicted_results"
   ]
  },
  {
   "cell_type": "code",
   "execution_count": 188,
   "metadata": {},
   "outputs": [],
   "source": [
    "predicted_results.to_csv('../output/stock_selection.csv', index=True)"
   ]
  },
  {
   "cell_type": "markdown",
   "metadata": {},
   "source": [
    "Prepare portfolio monthly returns"
   ]
  },
  {
   "cell_type": "code",
   "execution_count": 189,
   "metadata": {},
   "outputs": [],
   "source": [
    "portfolio_monthly_returns = pd.DataFrame(predict_months, \n",
    "                                         columns = ['predictmonth']).set_index('predictmonth')\n",
    "portfolio_monthly_returns = portfolio_monthly_returns. \\\n",
    "                                join(predicted_results. \\\n",
    "                                groupby('predictmonth')['monthly_returns']. \\\n",
    "                                agg(calcPortfolioReturn), how='left')\n",
    "portfolio_monthly_returns = portfolio_monthly_returns.fillna(0, axis=1)\n",
    "portfolio_monthly_returns.index = pd.to_datetime(portfolio_monthly_returns.index)\n",
    "portfolio_monthly_returns['cumulative_returns'] = ((1 + portfolio_monthly_returns).cumprod()-1) "
   ]
  },
  {
   "cell_type": "markdown",
   "metadata": {},
   "source": [
    "Show benchmark information and time series"
   ]
  },
  {
   "cell_type": "code",
   "execution_count": 190,
   "metadata": {},
   "outputs": [
    {
     "name": "stdout",
     "output_type": "stream",
     "text": [
      "沪深300\n"
     ]
    },
    {
     "data": {
      "image/png": "[encoded data removed]",
      "text/plain": [
       "<Figure size 1200x480 with 1 Axes>"
      ]
     },
     "metadata": {},
     "output_type": "display_data"
    }
   ],
   "source": [
    "bmk_name = getSecurityName('000300.XSHG')[0]\n",
    "print(bmk_name)\n",
    "plotTimeSeries(bmk_prices, 'CSI 300 Benchmark', 'Dates', 'Price Levels')"
   ]
  },
  {
   "cell_type": "markdown",
   "metadata": {},
   "source": [
    "Calculate benchmark returns for comparison"
   ]
  },
  {
   "cell_type": "code",
   "execution_count": 191,
   "metadata": {},
   "outputs": [],
   "source": [
    "bmk_prices = bmk_prices.resample('M').fillna('ffill')\n",
    "bmk_returns = bmk_prices.pct_change().dropna(axis=0, how='all')\n",
    "bmk_returns = pd.DataFrame(bmk_returns)\n",
    "bmk_returns.columns = ['bmk_monthly_returns']\n",
    "bmk_returns.index = bmk_returns.index.map(lambda t: t.replace(day=1))\n",
    "bmk_returns = bmk_returns['2018':'2020']\n",
    "bmk_returns['bmk_cumulative_returns'] = ((1 + bmk_returns).cumprod()-1) "
   ]
  },
  {
   "cell_type": "markdown",
   "metadata": {},
   "source": [
    "Join benchmark returns to portfolio returns"
   ]
  },
  {
   "cell_type": "code",
   "execution_count": 192,
   "metadata": {},
   "outputs": [],
   "source": [
    "portfolio_monthly_returns = portfolio_monthly_returns.join(bmk_returns, how='left')"
   ]
  },
  {
   "cell_type": "markdown",
   "metadata": {},
   "source": [
    "### Portfolio Performance\n",
    "\n",
    "It is observed that the portfolio cumulative returns (red line) are consistently above the benchmark cumulative returns (green line).  On other words, the portfolio performance outperforms the benchmark consistently over the months."
   ]
  },
  {
   "cell_type": "code",
   "execution_count": 193,
   "metadata": {},
   "outputs": [
    {
     "data": {
      "image/png": "[encoded data removed]",
      "text/plain": [
       "<Figure size 1200x480 with 1 Axes>"
      ]
     },
     "metadata": {},
     "output_type": "display_data"
    }
   ],
   "source": [
    "plotTimeSeries(portfolio_monthly_returns, 'Portfolio vs Benchmark Returns', \n",
    "               'Dates', 'Returns')"
   ]
  },
  {
   "cell_type": "code",
   "execution_count": 194,
   "metadata": {
    "scrolled": true
   },
   "outputs": [
    {
     "data": {
      "text/html": [
       "<div>\n",
       "<style scoped>\n",
       "    .dataframe tbody tr th:only-of-type {\n",
       "        vertical-align: middle;\n",
       "    }\n",
       "\n",
       "    .dataframe tbody tr th {\n",
       "        vertical-align: top;\n",
       "    }\n",
       "\n",
       "    .dataframe thead th {\n",
       "        text-align: right;\n",
       "    }\n",
       "</style>\n",
       "<table border=\"1\" class=\"dataframe\">\n",
       "  <thead>\n",
       "    <tr style=\"text-align: right;\">\n",
       "      <th></th>\n",
       "      <th>monthly_returns</th>\n",
       "      <th>cumulative_returns</th>\n",
       "      <th>bmk_monthly_returns</th>\n",
       "      <th>bmk_cumulative_returns</th>\n",
       "    </tr>\n",
       "    <tr>\n",
       "      <th>predictmonth</th>\n",
       "      <th></th>\n",
       "      <th></th>\n",
       "      <th></th>\n",
       "      <th></th>\n",
       "    </tr>\n",
       "  </thead>\n",
       "  <tbody>\n",
       "    <tr>\n",
       "      <th>2018-01-01</th>\n",
       "      <td>0.026328</td>\n",
       "      <td>0.026328</td>\n",
       "      <td>0.060794</td>\n",
       "      <td>0.060794</td>\n",
       "    </tr>\n",
       "    <tr>\n",
       "      <th>2018-02-01</th>\n",
       "      <td>0.021910</td>\n",
       "      <td>0.048815</td>\n",
       "      <td>-0.058996</td>\n",
       "      <td>-0.001789</td>\n",
       "    </tr>\n",
       "    <tr>\n",
       "      <th>2018-03-01</th>\n",
       "      <td>0.030950</td>\n",
       "      <td>0.081275</td>\n",
       "      <td>-0.031101</td>\n",
       "      <td>-0.032834</td>\n",
       "    </tr>\n",
       "    <tr>\n",
       "      <th>2018-04-01</th>\n",
       "      <td>0.047669</td>\n",
       "      <td>0.132819</td>\n",
       "      <td>-0.036327</td>\n",
       "      <td>-0.067968</td>\n",
       "    </tr>\n",
       "    <tr>\n",
       "      <th>2018-05-01</th>\n",
       "      <td>-0.000466</td>\n",
       "      <td>0.132291</td>\n",
       "      <td>0.012111</td>\n",
       "      <td>-0.056680</td>\n",
       "    </tr>\n",
       "    <tr>\n",
       "      <th>2018-06-01</th>\n",
       "      <td>-0.023450</td>\n",
       "      <td>0.105739</td>\n",
       "      <td>-0.076636</td>\n",
       "      <td>-0.128973</td>\n",
       "    </tr>\n",
       "    <tr>\n",
       "      <th>2018-07-01</th>\n",
       "      <td>-0.024903</td>\n",
       "      <td>0.078203</td>\n",
       "      <td>0.001903</td>\n",
       "      <td>-0.127316</td>\n",
       "    </tr>\n",
       "    <tr>\n",
       "      <th>2018-08-01</th>\n",
       "      <td>-0.050416</td>\n",
       "      <td>0.023845</td>\n",
       "      <td>-0.052069</td>\n",
       "      <td>-0.172755</td>\n",
       "    </tr>\n",
       "    <tr>\n",
       "      <th>2018-09-01</th>\n",
       "      <td>0.003285</td>\n",
       "      <td>0.027208</td>\n",
       "      <td>0.031297</td>\n",
       "      <td>-0.146865</td>\n",
       "    </tr>\n",
       "    <tr>\n",
       "      <th>2018-10-01</th>\n",
       "      <td>-0.056980</td>\n",
       "      <td>-0.031322</td>\n",
       "      <td>-0.082888</td>\n",
       "      <td>-0.217579</td>\n",
       "    </tr>\n",
       "    <tr>\n",
       "      <th>2018-11-01</th>\n",
       "      <td>0.046104</td>\n",
       "      <td>0.013338</td>\n",
       "      <td>0.005983</td>\n",
       "      <td>-0.212898</td>\n",
       "    </tr>\n",
       "    <tr>\n",
       "      <th>2018-12-01</th>\n",
       "      <td>-0.021016</td>\n",
       "      <td>-0.007958</td>\n",
       "      <td>-0.051073</td>\n",
       "      <td>-0.253098</td>\n",
       "    </tr>\n",
       "    <tr>\n",
       "      <th>2019-01-01</th>\n",
       "      <td>0.054639</td>\n",
       "      <td>0.046247</td>\n",
       "      <td>0.063435</td>\n",
       "      <td>-0.205718</td>\n",
       "    </tr>\n",
       "    <tr>\n",
       "      <th>2019-02-01</th>\n",
       "      <td>0.273212</td>\n",
       "      <td>0.332093</td>\n",
       "      <td>0.146094</td>\n",
       "      <td>-0.089678</td>\n",
       "    </tr>\n",
       "    <tr>\n",
       "      <th>2019-03-01</th>\n",
       "      <td>0.067104</td>\n",
       "      <td>0.421482</td>\n",
       "      <td>0.055315</td>\n",
       "      <td>-0.039324</td>\n",
       "    </tr>\n",
       "    <tr>\n",
       "      <th>2019-04-01</th>\n",
       "      <td>0.002717</td>\n",
       "      <td>0.425344</td>\n",
       "      <td>0.010554</td>\n",
       "      <td>-0.029185</td>\n",
       "    </tr>\n",
       "    <tr>\n",
       "      <th>2019-05-01</th>\n",
       "      <td>-0.013260</td>\n",
       "      <td>0.406444</td>\n",
       "      <td>-0.072426</td>\n",
       "      <td>-0.099498</td>\n",
       "    </tr>\n",
       "    <tr>\n",
       "      <th>2019-06-01</th>\n",
       "      <td>0.030747</td>\n",
       "      <td>0.449688</td>\n",
       "      <td>0.053943</td>\n",
       "      <td>-0.050922</td>\n",
       "    </tr>\n",
       "    <tr>\n",
       "      <th>2019-07-01</th>\n",
       "      <td>0.037595</td>\n",
       "      <td>0.504188</td>\n",
       "      <td>0.002554</td>\n",
       "      <td>-0.048498</td>\n",
       "    </tr>\n",
       "    <tr>\n",
       "      <th>2019-08-01</th>\n",
       "      <td>-0.003964</td>\n",
       "      <td>0.498226</td>\n",
       "      <td>-0.009326</td>\n",
       "      <td>-0.057373</td>\n",
       "    </tr>\n",
       "    <tr>\n",
       "      <th>2019-09-01</th>\n",
       "      <td>-0.020131</td>\n",
       "      <td>0.468065</td>\n",
       "      <td>0.003932</td>\n",
       "      <td>-0.053666</td>\n",
       "    </tr>\n",
       "    <tr>\n",
       "      <th>2019-10-01</th>\n",
       "      <td>0.018107</td>\n",
       "      <td>0.494647</td>\n",
       "      <td>0.018933</td>\n",
       "      <td>-0.035749</td>\n",
       "    </tr>\n",
       "    <tr>\n",
       "      <th>2019-11-01</th>\n",
       "      <td>-0.005841</td>\n",
       "      <td>0.485917</td>\n",
       "      <td>-0.014943</td>\n",
       "      <td>-0.050158</td>\n",
       "    </tr>\n",
       "    <tr>\n",
       "      <th>2019-12-01</th>\n",
       "      <td>0.078867</td>\n",
       "      <td>0.603106</td>\n",
       "      <td>0.069975</td>\n",
       "      <td>0.016307</td>\n",
       "    </tr>\n",
       "    <tr>\n",
       "      <th>2020-01-01</th>\n",
       "      <td>-0.049621</td>\n",
       "      <td>0.523558</td>\n",
       "      <td>-0.022624</td>\n",
       "      <td>-0.006686</td>\n",
       "    </tr>\n",
       "    <tr>\n",
       "      <th>2020-02-01</th>\n",
       "      <td>0.019547</td>\n",
       "      <td>0.553338</td>\n",
       "      <td>-0.015947</td>\n",
       "      <td>-0.022526</td>\n",
       "    </tr>\n",
       "    <tr>\n",
       "      <th>2020-03-01</th>\n",
       "      <td>0.009244</td>\n",
       "      <td>0.567698</td>\n",
       "      <td>-0.064438</td>\n",
       "      <td>-0.085513</td>\n",
       "    </tr>\n",
       "    <tr>\n",
       "      <th>2020-04-01</th>\n",
       "      <td>0.047293</td>\n",
       "      <td>0.641838</td>\n",
       "      <td>0.061424</td>\n",
       "      <td>-0.029341</td>\n",
       "    </tr>\n",
       "    <tr>\n",
       "      <th>2020-05-01</th>\n",
       "      <td>-0.008341</td>\n",
       "      <td>0.628143</td>\n",
       "      <td>-0.011644</td>\n",
       "      <td>-0.040644</td>\n",
       "    </tr>\n",
       "    <tr>\n",
       "      <th>2020-06-01</th>\n",
       "      <td>-0.056479</td>\n",
       "      <td>0.536188</td>\n",
       "      <td>0.076788</td>\n",
       "      <td>0.033023</td>\n",
       "    </tr>\n",
       "  </tbody>\n",
       "</table>\n",
       "</div>"
      ],
      "text/plain": [
       "              monthly_returns  cumulative_returns  bmk_monthly_returns  \\\n",
       "predictmonth                                                             \n",
       "2018-01-01           0.026328            0.026328             0.060794   \n",
       "2018-02-01           0.021910            0.048815            -0.058996   \n",
       "2018-03-01           0.030950            0.081275            -0.031101   \n",
       "2018-04-01           0.047669            0.132819            -0.036327   \n",
       "2018-05-01          -0.000466            0.132291             0.012111   \n",
       "2018-06-01          -0.023450            0.105739            -0.076636   \n",
       "2018-07-01          -0.024903            0.078203             0.001903   \n",
       "2018-08-01          -0.050416            0.023845            -0.052069   \n",
       "2018-09-01           0.003285            0.027208             0.031297   \n",
       "2018-10-01          -0.056980           -0.031322            -0.082888   \n",
       "2018-11-01           0.046104            0.013338             0.005983   \n",
       "2018-12-01          -0.021016           -0.007958            -0.051073   \n",
       "2019-01-01           0.054639            0.046247             0.063435   \n",
       "2019-02-01           0.273212            0.332093             0.146094   \n",
       "2019-03-01           0.067104            0.421482             0.055315   \n",
       "2019-04-01           0.002717            0.425344             0.010554   \n",
       "2019-05-01          -0.013260            0.406444            -0.072426   \n",
       "2019-06-01           0.030747            0.449688             0.053943   \n",
       "2019-07-01           0.037595            0.504188             0.002554   \n",
       "2019-08-01          -0.003964            0.498226            -0.009326   \n",
       "2019-09-01          -0.020131            0.468065             0.003932   \n",
       "2019-10-01           0.018107            0.494647             0.018933   \n",
       "2019-11-01          -0.005841            0.485917            -0.014943   \n",
       "2019-12-01           0.078867            0.603106             0.069975   \n",
       "2020-01-01          -0.049621            0.523558            -0.022624   \n",
       "2020-02-01           0.019547            0.553338            -0.015947   \n",
       "2020-03-01           0.009244            0.567698            -0.064438   \n",
       "2020-04-01           0.047293            0.641838             0.061424   \n",
       "2020-05-01          -0.008341            0.628143            -0.011644   \n",
       "2020-06-01          -0.056479            0.536188             0.076788   \n",
       "\n",
       "              bmk_cumulative_returns  \n",
       "predictmonth                          \n",
       "2018-01-01                  0.060794  \n",
       "2018-02-01                 -0.001789  \n",
       "2018-03-01                 -0.032834  \n",
       "2018-04-01                 -0.067968  \n",
       "2018-05-01                 -0.056680  \n",
       "2018-06-01                 -0.128973  \n",
       "2018-07-01                 -0.127316  \n",
       "2018-08-01                 -0.172755  \n",
       "2018-09-01                 -0.146865  \n",
       "2018-10-01                 -0.217579  \n",
       "2018-11-01                 -0.212898  \n",
       "2018-12-01                 -0.253098  \n",
       "2019-01-01                 -0.205718  \n",
       "2019-02-01                 -0.089678  \n",
       "2019-03-01                 -0.039324  \n",
       "2019-04-01                 -0.029185  \n",
       "2019-05-01                 -0.099498  \n",
       "2019-06-01                 -0.050922  \n",
       "2019-07-01                 -0.048498  \n",
       "2019-08-01                 -0.057373  \n",
       "2019-09-01                 -0.053666  \n",
       "2019-10-01                 -0.035749  \n",
       "2019-11-01                 -0.050158  \n",
       "2019-12-01                  0.016307  \n",
       "2020-01-01                 -0.006686  \n",
       "2020-02-01                 -0.022526  \n",
       "2020-03-01                 -0.085513  \n",
       "2020-04-01                 -0.029341  \n",
       "2020-05-01                 -0.040644  \n",
       "2020-06-01                  0.033023  "
      ]
     },
     "execution_count": 194,
     "metadata": {},
     "output_type": "execute_result"
    }
   ],
   "source": [
    "portfolio_monthly_returns"
   ]
  },
  {
   "cell_type": "code",
   "execution_count": 195,
   "metadata": {},
   "outputs": [],
   "source": [
    "portfolio_monthly_returns.to_csv('../output/portfolio_monthly_returns.csv', index=True)"
   ]
  },
  {
   "cell_type": "markdown",
   "metadata": {},
   "source": [
    "## Concluding Notes\n",
    "\n",
    "1. Model should be retrained on monthly basis with the most recent data to reflect the most market events.  I expect such retraining to contribute better portfolio performance especially during stress period.\n",
    "2. Accuracy at around 60% is not fantastic.  Precision is not there and there are a number of False Positives.  Eg: Model predicted Category C but the actual Category is A and vice versa.  Better factor selection and other deep learning model structures should be explored.\n",
    "3. List of factors are selected based on the reference list found on the first research paper.  Other factors can be consider.  Important factors can be identified and updated on a monthly basis.  Can explore using only the top important factors to reduce noisy and overfitting.\n",
    "4. This analysis focuses on data from JoinQuant and securities inside CSI300.  This can be easily extended to other securities found on different indices as long as the factor data are available.\n",
    "5. Understanding the factors and respective calculation methodology provided by JoinQuant is important.  This will help in factor selection and explaining why the factors are selected for each time period.\n",
    "\n",
    "\n",
    "# Thank you\n",
    "\n",
    "Thanks to JoinQuant (聚宽) for providing such a platform and the necessary data for me to complete such an analysis."
   ]
  },
  {
   "cell_type": "code",
   "execution_count": null,
   "metadata": {},
   "outputs": [],
   "source": []
  }
 ],
 "metadata": {
  "kernelspec": {
   "display_name": "Python 3",
   "language": "python",
   "name": "python3"
  },
  "language_info": {
   "codemirror_mode": {
    "name": "ipython",
    "version": 3
   },
   "file_extension": ".py",
   "mimetype": "text/x-python",
   "name": "python",
   "nbconvert_exporter": "python",
   "pygments_lexer": "ipython3",
   "version": "3.8.3"
  },
  "toc": {
   "base_numbering": 1,
   "nav_menu": {},
   "number_sections": false,
   "sideBar": true,
   "skip_h1_title": false,
   "title_cell": "MarkDown菜单",
   "title_sidebar": "Contents",
   "toc_cell": false,
   "toc_position": {
    "height": "calc(100% - 180px)",
    "left": "10px",
    "top": "150px",
    "width": "323px"
   },
   "toc_section_display": true,
   "toc_window_display": true
  }
 },
 "nbformat": 4,
 "nbformat_minor": 2
}
